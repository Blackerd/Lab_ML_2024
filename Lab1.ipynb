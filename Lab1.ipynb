{
  "nbformat": 4,
  "nbformat_minor": 0,
  "metadata": {
    "colab": {
      "provenance": [],
      "toc_visible": true,
      "authorship_tag": "ABX9TyOTNoDWzJPnhXVatbzJtyi1",
      "include_colab_link": true
    },
    "kernelspec": {
      "name": "python3",
      "display_name": "Python 3"
    },
    "language_info": {
      "name": "python"
    }
  },
  "cells": [
    {
      "cell_type": "markdown",
      "metadata": {
        "id": "view-in-github",
        "colab_type": "text"
      },
      "source": [
        "<a href=\"https://colab.research.google.com/github/Blackerd/Lab_ML_2024/blob/main/Lab1.ipynb\" target=\"_parent\"><img src=\"https://colab.research.google.com/assets/colab-badge.svg\" alt=\"Open In Colab\"/></a>"
      ]
    },
    {
      "cell_type": "markdown",
      "source": [
        "Task 1.1"
      ],
      "metadata": {
        "id": "BgSNv9NyEIXR"
      }
    },
    {
      "cell_type": "code",
      "source": [
        "\n",
        "#Input n integer numbers x1, x2,..., xn and append them into a list L.\n",
        "\n",
        "L = []\n",
        "n = int(input(\"Enter n: \"))\n",
        "for i in range(n):\n",
        "    num = int(input(\"Enter element: \"))\n",
        "    L.append(num)\n",
        "print(\"The list is:\", L)\n",
        "\n",
        "# Find the max/min element in L\n",
        "max_element = max(L)\n",
        "print(\"MAX:\", max_element)\n",
        "\n",
        "min_element = min(L)\n",
        "print(\"MIN:\", min_element)\n",
        "\n",
        "#Compute the sum of elements in L\n",
        "sum  = sum(L)\n",
        "print(\"Sum  : \", sum)\n",
        "\n",
        "# Sort the list L in ascending order\n",
        "for i in range(len(L)):\n",
        "    for j in range(len(L) - 1):\n",
        "        if L[j] > L[j + 1]:\n",
        "            L[j], L[j + 1] = L[j + 1], L[j]\n",
        "\n",
        "print(\"The list in ascending order is:\", L)\n",
        "\n",
        "#Show how many positive and negative numbers are in the list L.\n",
        "p = 0\n",
        "n = 0\n",
        "for num in L:\n",
        "    if num > 0:\n",
        "        p+= 1\n",
        "    elif num < 0:\n",
        "        n += 1\n",
        "print(\"Number of positive numbers:\", p)\n",
        "print(\"Number of negative numbers:\", n)\n",
        "\n",
        "\n",
        "\n",
        "\n"
      ],
      "metadata": {
        "id": "7BriNYWeANpu",
        "colab": {
          "base_uri": "https://localhost:8080/"
        },
        "outputId": "b868fd31-f006-4e69-e523-bbe0040ffa7e"
      },
      "execution_count": 1,
      "outputs": [
        {
          "output_type": "stream",
          "name": "stdout",
          "text": [
            "Enter n: 3\n",
            "Enter element: 3\n",
            "Enter element: 6\n",
            "Enter element: 9\n",
            "The list is: [3, 6, 9]\n",
            "MAX: 9\n",
            "MIN: 3\n",
            "Sum  :  18\n",
            "The list in ascending order is: [3, 6, 9]\n",
            "Number of positive numbers: 3\n",
            "Number of negative numbers: 0\n"
          ]
        }
      ]
    },
    {
      "cell_type": "markdown",
      "source": [
        "Task 1.2"
      ],
      "metadata": {
        "id": "CE92ri8eXdaX"
      }
    },
    {
      "cell_type": "code",
      "source": [
        "#. Implement a Python function to compute S(n)\n",
        "n = int(input(\"Enter n: \"))\n",
        "def compute_S(n):\n",
        "    p = 1\n",
        "    sum = 0\n",
        "    for i in range(1, n + 1):\n",
        "        p *= i\n",
        "        sum += p\n",
        "    return sum\n",
        "print(f\"S({n}) =\", compute_S(n))\n"
      ],
      "metadata": {
        "colab": {
          "base_uri": "https://localhost:8080/"
        },
        "id": "KekAzjhBXWLi",
        "outputId": "3f57252d-0e00-4891-856c-e044adae65de"
      },
      "execution_count": 2,
      "outputs": [
        {
          "output_type": "stream",
          "name": "stdout",
          "text": [
            "Enter n: 5\n",
            "S(5) = 153\n"
          ]
        }
      ]
    },
    {
      "cell_type": "markdown",
      "source": [
        "Task 1.3"
      ],
      "metadata": {
        "id": "7E-lPcZsaG1I"
      }
    },
    {
      "cell_type": "code",
      "source": [
        "from typing import List\n",
        "\n",
        "class Post:\n",
        "    def __init__(self, content: str, subject: str, likes: int):\n",
        "        self.content = content\n",
        "        self.subject = subject\n",
        "        self.likes = likes\n",
        "\n",
        "class Account:\n",
        "    def __init__(self, name: str, email: str, country: str, friends: List['Account'], posts: List[Post]):\n",
        "        self.name = name\n",
        "        self.email = email\n",
        "        self.country = country\n",
        "        self.friends = friends\n",
        "        self.posts = posts\n",
        "\n",
        "    def getMaxLikePostByFriend(self) -> 'Account':\n",
        "        max_likes_account = None\n",
        "        max_likes = 0\n",
        "\n",
        "        for friend in self.friends:\n",
        "            for post in friend.posts:\n",
        "                if post.likes > max_likes:\n",
        "                    max_likes = post.likes\n",
        "                    max_likes_account = friend\n",
        "\n",
        "        return max_likes_account\n",
        "\n",
        "class AccountManager:\n",
        "    def __init__(self, accounts: List[Account]):\n",
        "        self.accounts = accounts\n",
        "\n",
        "    def groupAccountsByPostLike(self) -> dict:\n",
        "      grouped_accounts = {True: [], False: []}\n",
        "\n",
        "      for account in self.accounts:\n",
        "          if len(account.posts) < 10:\n",
        "              grouped_accounts[False].append(account)\n",
        "          else:\n",
        "              grouped_accounts[True].append(account)\n",
        "      return grouped_accounts\n",
        "\n",
        "\n",
        "    def filterAccounts(self, country: str) -> set:\n",
        "      filtered_accounts = [account for account in self.accounts if account.country == country]\n",
        "\n",
        "      sorted_accounts = sorted(filtered_accounts, key=lambda account: (-len(account.posts), account.name))\n",
        "\n",
        "      return sorted_accounts\n",
        "\n",
        "\n",
        "import unittest\n",
        "\n",
        "class Test(unittest.TestCase):\n",
        "    def setUp(self):\n",
        "        self.post1 = Post('content1', 'subject1', 5)\n",
        "        self.post2 = Post('content2', 'subject2', 10)\n",
        "        self.post3 = Post('content3', 'subject3', 15)\n",
        "\n",
        "        self.account1 = Account('name1', 'email1', 'Vietnam', [], [self.post1, self.post2])\n",
        "        self.account2 = Account('name2', 'email2', 'USA', [self.account1], [self.post3])\n",
        "\n",
        "        self.accountManager = AccountManager([self.account1, self.account2])\n",
        "\n",
        "\n",
        "    def test_getMaxLikePostByFriend(self):\n",
        "        self.assertEqual(self.account2.getMaxLikePostByFriend(), self.account1)\n",
        "        max_likes_account_name = self.account2.getMaxLikePostByFriend().name\n",
        "        print(\"Tài khoản có bài đăng với lượt thích cao nhất:\", max_likes_account_name)\n",
        "\n",
        "    def test_groupAccountsByPostLike(self):\n",
        "        grouped_accounts = self.accountManager.groupAccountsByPostLike()\n",
        "        self.assertEqual(grouped_accounts, {True: [self.account2], False: [self.account1]})\n",
        "        print(\"Nhóm tài khoản:\", {k: [account.name for account in v] for k, v in grouped_accounts.items()})\n",
        "\n",
        "    def test_filterAccounts(self):\n",
        "        filtered_accounts = self.accountManager.filterAccounts('Vietnam')\n",
        "        self.assertEqual(filtered_accounts, [self.account1])\n",
        "        print(\"Tài khoản được lọc:\", [account.name for account in filtered_accounts])\n",
        "\n",
        "\n"
      ],
      "metadata": {
        "id": "XwGS-fWsajGh"
      },
      "execution_count": 3,
      "outputs": []
    },
    {
      "cell_type": "markdown",
      "source": [
        "Task 2.1"
      ],
      "metadata": {
        "id": "ePofotVSYRAH"
      }
    },
    {
      "cell_type": "code",
      "source": [
        "import numpy as np\n",
        "\n",
        "arr = np.arange(0, 10)\n",
        "print(\"Mảng gốc:\", arr)\n",
        "\n",
        "reversed_arr = np.flip(arr)\n",
        "print(\"Mảng đã đảo ngược:\", reversed_arr)\n"
      ],
      "metadata": {
        "colab": {
          "base_uri": "https://localhost:8080/"
        },
        "id": "s8hwMxpTYoni",
        "outputId": "d05f9d28-3ef6-4c9e-ef6a-d0dae8a65eb7"
      },
      "execution_count": 4,
      "outputs": [
        {
          "output_type": "stream",
          "name": "stdout",
          "text": [
            "Mảng gốc: [0 1 2 3 4 5 6 7 8 9]\n",
            "Mảng đã đảo ngược: [9 8 7 6 5 4 3 2 1 0]\n"
          ]
        }
      ]
    },
    {
      "cell_type": "markdown",
      "source": [
        "Task 2.2"
      ],
      "metadata": {
        "id": "JdOep4DCY1BR"
      }
    },
    {
      "cell_type": "code",
      "source": [
        "import numpy as np\n",
        "\n",
        "arr = np.array([1, 2, 3, 4])\n",
        "print(\"Original array:\", arr)\n",
        "\n",
        "arr2 = np.tile(arr, 2)\n",
        "print(\"Repeating 2 times:\", arr2)\n",
        "\n",
        "arr3 = np.tile(arr, 3)\n",
        "print(\"Repeating 3 times:\", arr3)\n"
      ],
      "metadata": {
        "colab": {
          "base_uri": "https://localhost:8080/"
        },
        "id": "K_biHAXA2V7G",
        "outputId": "e59925c9-b59a-4b98-eff2-ab5cb5656515"
      },
      "execution_count": 5,
      "outputs": [
        {
          "output_type": "stream",
          "name": "stdout",
          "text": [
            "Original array: [1 2 3 4]\n",
            "Repeating 2 times: [1 2 3 4 1 2 3 4]\n",
            "Repeating 3 times: [1 2 3 4 1 2 3 4 1 2 3 4]\n"
          ]
        }
      ]
    },
    {
      "cell_type": "markdown",
      "source": [
        "Task 2.3"
      ],
      "metadata": {
        "id": "zG9pt4cWZOeq"
      }
    },
    {
      "cell_type": "code",
      "source": [
        "import numpy as np\n",
        "\n",
        "arr = np.array([[0.42, 0.48, 0.32], [0.74, 0.58, 0.38], [0.51, 0.34, 0.15]])\n",
        "print(\"Original array:\\n\", arr)\n",
        "\n",
        "arr[arr > 0.5] = 0.5\n",
        "print(\"Array after replacement:\\n\", arr)\n"
      ],
      "metadata": {
        "colab": {
          "base_uri": "https://localhost:8080/"
        },
        "id": "riXObz47ZQgl",
        "outputId": "df199a2d-8d8a-4464-91cf-009b0ce4843c"
      },
      "execution_count": 6,
      "outputs": [
        {
          "output_type": "stream",
          "name": "stdout",
          "text": [
            "Original array:\n",
            " [[0.42 0.48 0.32]\n",
            " [0.74 0.58 0.38]\n",
            " [0.51 0.34 0.15]]\n",
            "Array after replacement:\n",
            " [[0.42 0.48 0.32]\n",
            " [0.5  0.5  0.38]\n",
            " [0.5  0.34 0.15]]\n"
          ]
        }
      ]
    }
  ]
}